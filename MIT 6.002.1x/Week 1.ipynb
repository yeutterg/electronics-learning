{
 "cells": [
  {
   "cell_type": "code",
   "execution_count": 1,
   "metadata": {},
   "outputs": [],
   "source": [
    "import math\n",
    "from scipy import integrate\n",
    "from IPython.display import Math"
   ]
  },
  {
   "cell_type": "markdown",
   "metadata": {},
   "source": [
    "# Week 1\n",
    "\n",
    "# Exercises\n",
    "\n",
    "## Part 1: Circuit Elements\n",
    "\n",
    "### S1E1.5: Simple Power\n",
    "\n",
    "In the circuit shown below, the strength of the source is Vs=10V, and the resistance of the resistor is R=50ohms.\n",
    "\n",
    "![](https://prod-edxapp.edx-cdn.org/assets/courseware/v1/58c80a1750b4ea92c3d83507f3d8ae9a/asset-v1:MITx+6.002.1x_1+2T2016+type@asset+block/images_circuits_simple-circuit.gif)\n",
    "\n",
    "#### Question A\n",
    "\n",
    "What is the power dissipated in the resistor (in Watts)?\n",
    "\n",
    "#### Solution\n",
    "\n",
    "Using the relation P = V^2 / R:"
   ]
  },
  {
   "cell_type": "code",
   "execution_count": 2,
   "metadata": {
    "scrolled": true
   },
   "outputs": [
    {
     "name": "stdout",
     "output_type": "stream",
     "text": [
      "2.0 watts\n"
     ]
    }
   ],
   "source": [
    "V = 10\n",
    "R = 50\n",
    "PR = V**2 / R\n",
    "print(str(PR), 'watts')"
   ]
  },
  {
   "cell_type": "markdown",
   "metadata": {},
   "source": [
    "#### Question B\n",
    "\n",
    "What is the power entering the source (in Watts)?\n",
    "\n",
    "#### Solution\n",
    "\n",
    "The power entering the source is the negative of the power dissapated across the resistor"
   ]
  },
  {
   "cell_type": "code",
   "execution_count": 3,
   "metadata": {},
   "outputs": [
    {
     "name": "stdout",
     "output_type": "stream",
     "text": [
      "-2.0 watts\n"
     ]
    }
   ],
   "source": [
    "PS = -PR\n",
    "print(str(PS), 'watts')"
   ]
  },
  {
   "cell_type": "markdown",
   "metadata": {},
   "source": [
    "### S1E2: Power\n",
    "\n",
    "The picture shows a resistor connected to some unknown network N. The resistor is immersed in an isolated water bath, and its temperature is observed and recorded. The resistor has resistance R=8.0ohms. By observing the rate of increase of the temperature in the water bath, it is determined that the power dissipated in the resistor is 11.0 W.\n",
    "\n",
    "![](https://prod-edxapp.edx-cdn.org/assets/courseware/v1/88cf1cef3b66706c63d46b99d8436c4b/asset-v1:MITx+6.002.1x_1+2T2016+type@asset+block/images_circuits_resistor-load.gif)\n",
    "\n",
    "#### Question A\n",
    "\n",
    "Assuming that the voltage across the resistor is constant, what is the voltage  (in Volts) across the resistor?\n",
    "\n",
    "#### Solution\n",
    "\n",
    "Use the relation P = V^2/R. Rearranging, V=sqrt(P*R)"
   ]
  },
  {
   "cell_type": "code",
   "execution_count": 4,
   "metadata": {},
   "outputs": [
    {
     "name": "stdout",
     "output_type": "stream",
     "text": [
      "9.38083151964686 volts\n"
     ]
    }
   ],
   "source": [
    "P = 11.0\n",
    "R = 8.0\n",
    "V = math.sqrt(P * R)\n",
    "print(str(V), 'volts')"
   ]
  },
  {
   "cell_type": "markdown",
   "metadata": {},
   "source": [
    "#### Question B\n",
    "\n",
    "What is the current I (in Amperes) entering the network N from the resistor?\n",
    "\n",
    "#### Solution\n",
    "\n",
    "We have P and V. Use the relation I=P/V. Because current flows away from the resistor, the result is negative."
   ]
  },
  {
   "cell_type": "code",
   "execution_count": 5,
   "metadata": {},
   "outputs": [
    {
     "name": "stdout",
     "output_type": "stream",
     "text": [
      "-1.1726039399558574 amps\n"
     ]
    }
   ],
   "source": [
    "I = -P/V\n",
    "print(str(I), 'amps')"
   ]
  },
  {
   "cell_type": "markdown",
   "metadata": {},
   "source": [
    "### S1E3: AC Power\n",
    "\n",
    "The plot shows 1/10 second of the voltage waveform of a 120V 60Hz AC (Alternating Current) power circuit, like that delivered to residences in the United States.\n",
    "\n",
    "![](https://prod-edxapp.edx-cdn.org/assets/courseware/v1/f0350b44586727b7d5ec3e01f5580b81/asset-v1:MITx+6.002.1x_1+2T2016+type@asset+block/images_circuits_120V60Hz.gif)\n",
    "\n",
    "The actual voltage is 120 * sqrt(2) * cos(2*pi*60*t) Volts. If we apply this voltage across a resistor of resistance 110.0ohms the resistor will dissipate a time-varying power. \n",
    "\n",
    "#### Question A\n",
    "\n",
    "What is the peak power (in Watts) dissipated by the resistor?\n",
    "\n",
    "#### Solution\n",
    "\n",
    "For peak power, just calculate the voltage, then use P = V^2/R"
   ]
  },
  {
   "cell_type": "code",
   "execution_count": 6,
   "metadata": {},
   "outputs": [
    {
     "name": "stdout",
     "output_type": "stream",
     "text": [
      "V: 169.7056274847714 volts\n",
      "P: 261.81818181818187 watts\n"
     ]
    }
   ],
   "source": [
    "R = 110.0\n",
    "V = 120 * math.sqrt(2) * math.cos(2 * math.pi * 60)\n",
    "print('V:', str(V), 'volts')\n",
    "P = V**2/R\n",
    "print('P:', str(P), 'watts')"
   ]
  },
  {
   "cell_type": "markdown",
   "metadata": {},
   "source": [
    "#### Question B\n",
    "\n",
    "What is the average power (in Watts) dissipated by the resistor? (Hint: you compute the average power by integrating the instantaneous power over one cycle of the waveform and dividing the result by the length of the cycle.)\n",
    "\n",
    "#### Solution"
   ]
  },
  {
   "cell_type": "code",
   "execution_count": 7,
   "metadata": {},
   "outputs": [
    {
     "data": {
      "text/latex": [
       "$\\displaystyle P_{avg} = \\frac{V^2}{R}= \\frac{\\int_{0}^{1}(120 \\sqrt{2} \\cos(2 \\pi 60 t))^2 dt}{110} = \\frac{14400}{110} = 130.91$"
      ],
      "text/plain": [
       "<IPython.core.display.Math object>"
      ]
     },
     "execution_count": 7,
     "metadata": {},
     "output_type": "execute_result"
    }
   ],
   "source": [
    "Math(r'P_{avg} = \\frac{V^2}{R}= \\frac{\\int_{0}^{1}(120 \\sqrt{2} \\cos(2 \\pi 60 t))^2 dt}{110} = \\frac{14400}{110} = 130.91')"
   ]
  },
  {
   "cell_type": "code",
   "execution_count": 8,
   "metadata": {},
   "outputs": [
    {
     "name": "stdout",
     "output_type": "stream",
     "text": [
      "130.90909090909088 watts\n"
     ]
    }
   ],
   "source": [
    "def f(t):\n",
    "    return (120 * math.sqrt(2) * math.cos(2*math.pi*60*t))**2\n",
    "    \n",
    "Vsquared, err = integrate.quad(f,0,1)\n",
    "P = Vsquared/R\n",
    "print(P, 'watts')"
   ]
  },
  {
   "cell_type": "markdown",
   "metadata": {},
   "source": [
    "#### Question C\n",
    "\n",
    "What would be the power (in Watts) dissipated by the resistor if the voltage was a constant value of 120V?\n",
    "\n",
    "#### Solution\n",
    "\n",
    "Simple P=V^2/R"
   ]
  },
  {
   "cell_type": "code",
   "execution_count": 9,
   "metadata": {},
   "outputs": [
    {
     "name": "stdout",
     "output_type": "stream",
     "text": [
      "130.9090909090909 watts\n"
     ]
    }
   ],
   "source": [
    "V = 120\n",
    "P = V**2 / R\n",
    "print(P, 'watts')"
   ]
  },
  {
   "cell_type": "markdown",
   "metadata": {},
   "source": [
    "### S1E5: KVL-0\n",
    "\n",
    "Joe was debugging part of an experimental apparatus, probing around with his voltmeter. Part of the apparatus had two obvious resistors in series with an unknown element, as shown in the diagram below:\n",
    "\n",
    "![](https://prod-edxapp.edx-cdn.org/assets/courseware/v1/dcda4e5e49eb702293a888804d2d4b6d/asset-v1:MITx+6.002.1x_1+2T2016+type@asset+block/images_circuits_KVL-0.gif)\n",
    "\n",
    "The unknown element is hard to reach, so Joe put the negative (black) probe of his voltmeter at the interconnection of the two obvious resistors and then put the positive (red) probe at the other end of each resistor, measuring V1=1.4V and V2=0.9V.\n",
    "\n",
    "#### Question\n",
    "\n",
    "What is the voltage (in Volts) V3 measured across the unknown element?\n",
    "\n",
    "#### Solution\n",
    "\n",
    "Just subtract the two Voltages"
   ]
  },
  {
   "cell_type": "code",
   "execution_count": 10,
   "metadata": {},
   "outputs": [
    {
     "name": "stdout",
     "output_type": "stream",
     "text": [
      "0.4999999999999999 volts\n"
     ]
    }
   ],
   "source": [
    "V1 = 1.4\n",
    "V2 = 0.9\n",
    "V3 = V1 - V2\n",
    "print(V3, 'volts')"
   ]
  },
  {
   "cell_type": "markdown",
   "metadata": {},
   "source": [
    "### S1E6: KVL\n",
    "\n",
    "In the circuit shown there are four unknown elements and an independent voltage source.\n",
    "\n",
    "![](https://prod-edxapp.edx-cdn.org/assets/courseware/v1/cab77aa01b521b3931e74d5447e20b36/asset-v1:MITx+6.002.1x_1+2T2016+type@asset+block/images_circuits_kvl.gif)\n",
    "\n",
    "The strength of the source V is given. Also, there are two known branch voltages: we know V1 and V2.\n",
    "\n",
    "#### Question A\n",
    "\n",
    "In terms of the known voltages, write an algebraic expression for the branch voltage V3. Be careful, algebraic expressions are case sensitive.\n",
    "\n",
    "#### Solution\n",
    "\n",
    "We know V, V1, and V2. So V3 equals (in the proper syntax):\n",
    "\n",
    "V - v1\n",
    "\n",
    "#### Question B\n",
    "\n",
    "Write an algebraic expression for the branch voltage V4:\n",
    "\n",
    "#### Solution\n",
    "\n",
    "v2 - V\n",
    "\n",
    "#### Question C\n",
    "\n",
    "Write an algebraic expression for the branch voltage V5:\n",
    "\n",
    "#### Solution\n",
    "\n",
    "v1 + v2 - V"
   ]
  },
  {
   "cell_type": "markdown",
   "metadata": {},
   "source": [
    "### S1E7: KCL-0\n",
    "\n",
    "While further poking around in his experiment, Joe found an exposed interconnect. It connected the positive output of the 5V power supply, a 3.3ohm resistor, and two unknown 2-terminal elements, as shown:\n",
    "\n",
    "![](https://prod-edxapp.edx-cdn.org/assets/courseware/v1/56af05602863830c8179890b29be1a64/asset-v1:MITx+6.002.1x_1+2T2016+type@asset+block/images_circuits_KCL-0.gif)\n",
    "\n",
    "He couldn't trace where the other ends of the elements went. However, he had a nifty (very expensive!) Hall-effect clamp-on ammeter that he used to measure the three of the four currents entering the elements. He didn't have enough space to measure the current entering the fourth element. He found that:\n",
    "\n",
    "I1 = -0.7A\n",
    "\n",
    "I3 = 3.0A\n",
    "\n",
    "I4 = 1.3A\n",
    "\n",
    "#### Question A\n",
    "\n",
    "What was the current (in Amperes) I2 into the fourth element?\n",
    "\n",
    "#### Solution"
   ]
  },
  {
   "cell_type": "code",
   "execution_count": 11,
   "metadata": {},
   "outputs": [
    {
     "name": "stdout",
     "output_type": "stream",
     "text": [
      "I5: 4.3 amps\n",
      "I2: -3.5999999999999996 amps\n"
     ]
    }
   ],
   "source": [
    "I1 = -0.7\n",
    "I3 = 3.0\n",
    "I4 = 1.3\n",
    "\n",
    "# First solve for I5. Because the node at I5,I3,I4 must be zero, \n",
    "# and I5 flows into the node while I4 and I3 flow out, we can just add \n",
    "# I4 and I3\n",
    "I5 = I4 + I3\n",
    "print('I5:', I5, 'amps')\n",
    "\n",
    "# Now that we have I5, solve for I2. The node at I1, I2, I5 must all be\n",
    "# zero. Because all three flow away from the node, we add I1 and I5,\n",
    "# then negate.\n",
    "I2 = -(I1 + I5)\n",
    "print('I2:', I2, 'amps')"
   ]
  },
  {
   "cell_type": "markdown",
   "metadata": {},
   "source": [
    "#### Question B\n",
    "\n",
    "Joe managed to get his ammeter probe around a wire and measured . What current (in Amperes) did he measure?\n",
    "\n",
    "#### Solution\n",
    "\n",
    "We already figured out that I5 = 4.3A above"
   ]
  },
  {
   "cell_type": "markdown",
   "metadata": {},
   "source": [
    "### S1E8: KCL\n",
    "\n",
    "In the circuit shown there are six unknown elements. By measurements we have values for three of the branch currents: I1, I2, and I3:\n",
    "\n",
    "![](https://prod-edxapp.edx-cdn.org/assets/courseware/v1/7e9c1e319be42b11fb6c5ca5aad7d2b2/asset-v1:MITx+6.002.1x_1+2T2016+type@asset+block/images_circuits_kcl.gif)\n",
    "\n",
    "#### Question A: \n",
    "\n",
    "In terms of the known currents, write an algebraic expression for the current I4\n",
    "\n",
    "#### Solution\n",
    "\n",
    "i2 - i3\n",
    "\n",
    "#### Question B\n",
    "\n",
    "Write an algebraic expression for the current\n",
    "\n",
    "#### Solution\n",
    "\n",
    "We already know that i4 = i2 - i3\n",
    "\n",
    "Looking at the note I1, I4, I5, we have the equation:\n",
    "\n",
    "i5 = -(i1 + i4)\n",
    "\n",
    "Subbing in i4, we get\n",
    "\n",
    "-(i1+i2-i3)\n",
    "\n",
    "#### Question C\n",
    "\n",
    "Write an algebraic expression for the current I6\n",
    "\n",
    "#### Solution\n",
    "\n",
    "At the node, we have:\n",
    "\n",
    "i6 = i5 - i3\n",
    "\n",
    "We sub in the value for i5:\n",
    "\n",
    "-(i1+i2-i3) - i3\n",
    "\n",
    "Simplifying:\n",
    "\n",
    "-i1 -i2 +i3 -i3\n",
    "\n",
    "Finally:\n",
    "\n",
    "-i1 -i2"
   ]
  },
  {
   "cell_type": "markdown",
   "metadata": {},
   "source": [
    "### S1E9: Battery Model\n",
    "\n",
    "A real battery is not an ideal independent voltage source. A voltage source is an appropriate idealization of the battery if the load on the battery is negligible. A better model for a battery is a voltage source in series with an ideal linear resistor whose resistance varies with temperature. Sometimes even better models are required - this [Energizer technical bulletin](http://data.energizer.com/PDFs/BatteryIR.pdf) gives more information. However, let's use the simple model of a linear resistor in series with an ideal independent voltage source, as in the figure.\n",
    "\n",
    "![](https://prod-edxapp.edx-cdn.org/assets/courseware/v1/28917c942dfcf7a48315d5c754797cc1/asset-v1:MITx+6.002.1x_1+2T2016+type@asset+block/images_circuits_battery-model.gif)\n",
    "\n",
    "It is suggested in section 1.5.1 of the textbook that to increase the current-capacity of a battery without increasing the voltage at the terminals we can connect batteries of the same voltage in parallel. Let's examine this using our model.\n",
    "\n",
    "![](https://prod-edxapp.edx-cdn.org/assets/courseware/v1/41cf8c3f78c807faa2ff5cf15bdfbd5b/asset-v1:MITx+6.002.1x_1+2T2016+type@asset+block/images_circuits_two-batteries.gif)\n",
    "\n",
    "#### Question A\n",
    "\n",
    "Let's assume that both component batteries have the same voltage V1 = V2 = 1.5. The internal resistances of small batteries are about 0.2ohms, but they vary a bit. Let's assume that R1=0.25ohms  and R2=0.32ohms. What is the open-circuit voltage (in Volts) V of the combination?\n",
    "\n",
    "#### Solution\n",
    "\n",
    "This is just 1.5V. The voltage will not drop unless there is current (open circuit)."
   ]
  },
  {
   "cell_type": "markdown",
   "metadata": {},
   "source": [
    "#### Question B\n",
    "\n",
    "Now, suppose we short-circuit the compound battery. (This is very dangerous. NEVER do this to a large battery, such as a lead-acid battery in a car, or to a lithium-ion battery from your laptop. You MAY live to regret it, but you may not.) What is the current (in Amperes) you should expect to go through the short circuit?\n",
    "\n",
    "#### Solution\n",
    "\n",
    "Use I = VR for both segments, then sum"
   ]
  },
  {
   "cell_type": "code",
   "execution_count": 12,
   "metadata": {},
   "outputs": [
    {
     "name": "stdout",
     "output_type": "stream",
     "text": [
      "I1: 6.0 amps\n",
      "I2: 4.6875 amps\n",
      "I: 10.6875 amps\n"
     ]
    }
   ],
   "source": [
    "V1 = 1.5\n",
    "V2 = 1.5\n",
    "R1 = 0.25\n",
    "R2 = 0.32\n",
    "\n",
    "# Get I=V/R for each side\n",
    "I1 = V1/R1\n",
    "I2 = V2/R2\n",
    "print('I1:',I1,'amps')\n",
    "print('I2:',I2,'amps')\n",
    "\n",
    "# Then sum\n",
    "I = I1 + I2\n",
    "print('I:',I,'amps')"
   ]
  },
  {
   "cell_type": "markdown",
   "metadata": {},
   "source": [
    "#### Question C\n",
    "\n",
    "We can think of this combination as a bigger battery of the same voltage as the two component batteries. What is the equivalent resistance (in Ohms) of the compound battery? (Hint: you have the voltage with nothing connected and the current when shorted out.)\n",
    "\n",
    "#### Solution\n",
    "\n",
    "Just use R=V/I, with V=1.5 and the current as the value we just computed"
   ]
  },
  {
   "cell_type": "code",
   "execution_count": 13,
   "metadata": {},
   "outputs": [
    {
     "name": "stdout",
     "output_type": "stream",
     "text": [
      "0.14035087719298245 ohms\n"
     ]
    }
   ],
   "source": [
    "V = V1\n",
    "R = V/I\n",
    "print(R, 'ohms')"
   ]
  },
  {
   "cell_type": "markdown",
   "metadata": {},
   "source": [
    "#### Question D\n",
    "\n",
    "Now, suppose that the voltages of the two component batteries are not quite the same. For example, suppose that . Then when we hook the two batteries together current will flow and the higher voltage battery will charge the lower voltage one. What is the current (in Amperes) that will flow?\n",
    "\n",
    "#### Solution\n",
    "\n",
    "The circuit is NOT short-circuited this time, unlike in question B (the question should have been more clear).\n",
    "\n",
    "So, for the open circuit, we need to compute I = V/R with separate voltages. Voltages subtract, resistances add (because we are doing KVL in a loop):"
   ]
  },
  {
   "cell_type": "code",
   "execution_count": 14,
   "metadata": {},
   "outputs": [
    {
     "name": "stdout",
     "output_type": "stream",
     "text": [
      "0.1754385964912282 amps\n"
     ]
    }
   ],
   "source": [
    "V2 = 1.6\n",
    "\n",
    "I = (V2-V1)/(R2+R1)\n",
    "print(I,'amps')"
   ]
  },
  {
   "cell_type": "markdown",
   "metadata": {},
   "source": [
    "## Part 2: Circuit Analysis Toolchest\n",
    "\n",
    "### S2E1: Circuit Topology\n",
    "\n",
    "In the bridge network shown below:\n",
    "\n",
    "![](https://prod-edxapp.edx-cdn.org/assets/courseware/v1/5b95533e27a256a7aa6c84f44818b055/asset-v1:MITx+6.002.1x_1+2T2016+type@asset+block/images_circuits_bridge.gif)\n",
    "\n",
    "#### Q&A\n",
    "\n",
    "How many nodes? 4\n",
    "\n",
    "How many KCL equations are independent? 3\n",
    "\n",
    "How many loops? 7 \n",
    "\n",
    "How many KVL equations are independent? 3\n",
    "\n",
    "Notice that in any circuit there is always one more node than there are independent KCL equations. If two nodes share a branch, the current entering one node from that branch is the negative of the current entering the other node from that branch. So the sum of the currents entering two nodes does not count current going from one to the other. As a consequence, the sum of all the currents entering all but one of the nodes is the same as the current entering the remaining node. So the KCL equation for that node is the sum of the KCL equations for all the other nodes.\n",
    "\n",
    "Also, in a circuit with more than one loop there are always more loops than KVL equations. The argument is analogous with the argument for nodes: if two loops share a branch, and we count the voltages counterclockwise in each loop, then the KVL equation for the branches containing both subloops is the sum of the KVL equations for each subloop. This bigger equation does not count the current in the shared branch, since it is of opposite sign in the two subloops."
   ]
  },
  {
   "cell_type": "markdown",
   "metadata": {},
   "source": [
    "### S2E2: Associated Reference Directions\n",
    "\n",
    "The figure below shows two identical circuits connecting a 6V battery to an 18ohm resistor. The difference is that we chose to measure the voltages and currents in the two circuits differently: we used a different coordinate system of voltages and currents in our measurements.\n",
    "\n",
    "![](https://prod-edxapp.edx-cdn.org/assets/courseware/v1/a30c0c774563b70bacded47e38db89aa/asset-v1:MITx+6.002.1x_1+2T2016+type@asset+block/images_circuits_ard.gif)\n",
    "\n",
    "#### Q&A\n",
    "\n",
    "What is the voltage (in Volts) V1 measured across the battery? 6V\n",
    "\n",
    "What is the voltage (in Volts) V2 measured across the resistor? 6V\n",
    "\n",
    "What is the current (in Amperes) I1 measured entering the battery? -0.333amps\n",
    "\n",
    "What is the current (in Amperes) I2 measured entering the resistor? 0.333amps"
   ]
  },
  {
   "cell_type": "code",
   "execution_count": 15,
   "metadata": {},
   "outputs": [
    {
     "name": "stdout",
     "output_type": "stream",
     "text": [
      "P1: -1.9980000000000002 watts\n",
      "P2: 1.9980000000000002 watts\n"
     ]
    }
   ],
   "source": [
    "V1 = 6\n",
    "V2 = 6\n",
    "I1 = -0.333\n",
    "I2 = 0.333\n",
    "P1 = V1*I1\n",
    "P2 = V2*I2\n",
    "print('P1:', P1, 'watts')\n",
    "print('P2:', P2, 'watts')"
   ]
  },
  {
   "cell_type": "markdown",
   "metadata": {},
   "source": [
    "What is the power (in Watts) P1=V1*I1 entering the voltage source? -2W\n",
    "\n",
    "What is the power (in Watts) P2=V2*I2 entering the resistor? 2W\n",
    "\n",
    "**The next 4 answers are just the inverse of the first circuit**\n",
    "\n",
    "What is the voltage (in Volts) V3 measured across the battery? -6V\n",
    "\n",
    "What is the voltage (in Volts) V4 measured across the resistor? -6V\n",
    "\n",
    "What is the current (in Amperes) I3 measured entering the battery? 0.333\n",
    "\n",
    "What is the current (in Amperes) I4 measured entering the resistor? -0.333\n",
    "\n",
    "What is the power (in Watts) P3=V3*I3 entering the voltage source? -2W\n",
    "\n",
    "What is the power (in Watts) P4=V4*I4 entering the resistor? 2W"
   ]
  },
  {
   "cell_type": "markdown",
   "metadata": {},
   "source": [
    "### S2E3: Using KVL, KCL, and VI constraints\n",
    "\n",
    "![](https://prod-edxapp.edx-cdn.org/assets/courseware/v1/18f86f86e37206d7925d132337255859/asset-v1:MITx+6.002.1x_1+2T2016+type@asset+block/images_circuits_four.gif)\n",
    "\n",
    "In the network shown you are given that:"
   ]
  },
  {
   "cell_type": "code",
   "execution_count": 16,
   "metadata": {},
   "outputs": [],
   "source": [
    "V=2.0\n",
    "I=3.0\n",
    "R1=4.0\n",
    "R2=5.0\n",
    "\n",
    "# We can also get the conductances to make the math a little more straightforward:\n",
    "G1 = 1/R1\n",
    "G2 = 1/R2"
   ]
  },
  {
   "cell_type": "markdown",
   "metadata": {},
   "source": [
    "#### Q&A\n",
    "\n",
    "We can formulate the following two equations, so that we can solve the two unknowns, i1 and V2:"
   ]
  },
  {
   "cell_type": "code",
   "execution_count": 17,
   "metadata": {},
   "outputs": [
    {
     "data": {
      "text/latex": [
       "$\\displaystyle i_1 = \\frac{V_2}{R_2} - I$"
      ],
      "text/plain": [
       "<IPython.core.display.Math object>"
      ]
     },
     "execution_count": 17,
     "metadata": {},
     "output_type": "execute_result"
    }
   ],
   "source": [
    "Math(r'i_1 = \\frac{V_2}{R_2} - I')"
   ]
  },
  {
   "cell_type": "code",
   "execution_count": 18,
   "metadata": {},
   "outputs": [
    {
     "data": {
      "text/latex": [
       "$\\displaystyle i_1 = \\frac{V - v_2}{R_1}$"
      ],
      "text/plain": [
       "<IPython.core.display.Math object>"
      ]
     },
     "execution_count": 18,
     "metadata": {},
     "output_type": "execute_result"
    }
   ],
   "source": [
    "Math(r'i_1 = \\frac{V - v_2}{R_1}')"
   ]
  },
  {
   "cell_type": "markdown",
   "metadata": {},
   "source": [
    "Solving for i1, we get the equation:"
   ]
  },
  {
   "cell_type": "code",
   "execution_count": 19,
   "metadata": {},
   "outputs": [
    {
     "data": {
      "text/latex": [
       "$\\displaystyle i_1 = \\frac{V-IR_2}{R_1+R_2}$"
      ],
      "text/plain": [
       "<IPython.core.display.Math object>"
      ]
     },
     "execution_count": 19,
     "metadata": {},
     "output_type": "execute_result"
    }
   ],
   "source": [
    "Math(r'i_1 = \\frac{V-IR_2}{R_1+R_2}')"
   ]
  },
  {
   "cell_type": "code",
   "execution_count": 22,
   "metadata": {},
   "outputs": [
    {
     "name": "stdout",
     "output_type": "stream",
     "text": [
      "i1: -1.4444444444444444 amps\n"
     ]
    }
   ],
   "source": [
    "I1 = (V-I*R2)/(R1+R2)\n",
    "print('i1:', I1, 'amps')"
   ]
  },
  {
   "cell_type": "markdown",
   "metadata": {},
   "source": [
    "We just sub i1 back into one of the old equations to get v2:"
   ]
  },
  {
   "cell_type": "code",
   "execution_count": 24,
   "metadata": {},
   "outputs": [
    {
     "name": "stdout",
     "output_type": "stream",
     "text": [
      "v2: 7.777777777777778 volts\n"
     ]
    }
   ],
   "source": [
    "V2 = I1*R2 + I*R2 \n",
    "print('v2:', V2, 'volts')"
   ]
  },
  {
   "cell_type": "markdown",
   "metadata": {},
   "source": [
    "From here, it is trivial to answer the questions:\n",
    "\n",
    "What is the voltage (in Volts) V2 across the resistor with resistance R2? 7.78 volts\n",
    "\n",
    "What is the power (in Watts) dissipated by the resistor with resistance R2?"
   ]
  },
  {
   "cell_type": "code",
   "execution_count": 38,
   "metadata": {},
   "outputs": [
    {
     "name": "stdout",
     "output_type": "stream",
     "text": [
      "P: 12.098765432098766 watts\n"
     ]
    }
   ],
   "source": [
    "P = (I1+I)**2 * R2\n",
    "print('P:', P, 'watts')"
   ]
  },
  {
   "cell_type": "markdown",
   "metadata": {},
   "source": [
    "What is the current (in Amperes) I1 through the resistor with resistance R1? -1.44 amps"
   ]
  },
  {
   "cell_type": "markdown",
   "metadata": {},
   "source": [
    "What is the power (in Watts) dissipated by the resistor with resistance R1?"
   ]
  },
  {
   "cell_type": "code",
   "execution_count": 28,
   "metadata": {},
   "outputs": [
    {
     "name": "stdout",
     "output_type": "stream",
     "text": [
      "P: 8.345679012345679 Watts\n"
     ]
    }
   ],
   "source": [
    "P = I1**2 * R1\n",
    "print('P:', P, 'Watts')"
   ]
  },
  {
   "cell_type": "markdown",
   "metadata": {},
   "source": [
    "What is the power (in Watts) supplied by the voltage source?"
   ]
  },
  {
   "cell_type": "code",
   "execution_count": 30,
   "metadata": {},
   "outputs": [
    {
     "name": "stdout",
     "output_type": "stream",
     "text": [
      "P: -2.888888888888889 Watts\n"
     ]
    }
   ],
   "source": [
    "P = I1 * V\n",
    "print('P:', P, 'Watts')"
   ]
  },
  {
   "cell_type": "markdown",
   "metadata": {},
   "source": [
    "What is the power (in Watts) supplied by the current source?"
   ]
  },
  {
   "cell_type": "code",
   "execution_count": 31,
   "metadata": {},
   "outputs": [
    {
     "name": "stdout",
     "output_type": "stream",
     "text": [
      "P: 23.333333333333332 Watts\n"
     ]
    }
   ],
   "source": [
    "P = I * V2\n",
    "print('P:', P, 'Watts')"
   ]
  },
  {
   "cell_type": "markdown",
   "metadata": {},
   "source": [
    "You should observe that the sum of the power supplied by the sources is the sum of the power dissipated by the resistors. If this is not true you have done something wrong."
   ]
  },
  {
   "cell_type": "markdown",
   "metadata": {},
   "source": [
    "### S2E4: Series and Parallel\n",
    "\n",
    "In the network shown you are given:\n",
    "\n",
    "![](https://prod-edxapp.edx-cdn.org/assets/courseware/v1/43051f019474087b12193590fcdb2673/asset-v1:MITx+6.002.1x_1+2T2016+type@asset+block/images_circuits_ladder.gif)"
   ]
  },
  {
   "cell_type": "code",
   "execution_count": 42,
   "metadata": {},
   "outputs": [],
   "source": [
    "V = 2\n",
    "R1 = 4\n",
    "R2 = 4\n",
    "R3 = 2\n",
    "R4 = 2"
   ]
  },
  {
   "cell_type": "markdown",
   "metadata": {},
   "source": [
    "#### Q&A\n",
    "\n",
    "What is the equivalent resistance (in Ohms) of the series combination of R3 and R4?"
   ]
  },
  {
   "cell_type": "code",
   "execution_count": 44,
   "metadata": {},
   "outputs": [
    {
     "name": "stdout",
     "output_type": "stream",
     "text": [
      "R34: 4 ohms\n"
     ]
    }
   ],
   "source": [
    "R34 = R3 + R4\n",
    "print('R34:', R34, 'ohms')"
   ]
  },
  {
   "cell_type": "markdown",
   "metadata": {},
   "source": [
    "What is the equivalent resistance (in Ohms) of the parallel combination of R2 and the series combination of R3 and R4?"
   ]
  },
  {
   "cell_type": "code",
   "execution_count": 50,
   "metadata": {},
   "outputs": [
    {
     "name": "stdout",
     "output_type": "stream",
     "text": [
      "R234: 2.0 ohms\n"
     ]
    }
   ],
   "source": [
    "R234 = (1/R34 + 1/R2)**-1\n",
    "print('R234:', R234, 'ohms')"
   ]
  },
  {
   "cell_type": "markdown",
   "metadata": {},
   "source": [
    "What is the equivalent resistance (in Ohms) of the series combination of R1 and the parallel combination of R2 and the series combination of R3 and R4?"
   ]
  },
  {
   "cell_type": "code",
   "execution_count": 51,
   "metadata": {},
   "outputs": [
    {
     "name": "stdout",
     "output_type": "stream",
     "text": [
      "R1234: 6.0 ohms\n"
     ]
    }
   ],
   "source": [
    "R1234 = R1 + R234\n",
    "print('R1234:', R1234, 'ohms')"
   ]
  },
  {
   "cell_type": "markdown",
   "metadata": {},
   "source": [
    "What is the current (in Amperes) I1?"
   ]
  },
  {
   "cell_type": "code",
   "execution_count": 52,
   "metadata": {},
   "outputs": [
    {
     "name": "stdout",
     "output_type": "stream",
     "text": [
      "I1: 0.3333333333333333 amps\n"
     ]
    }
   ],
   "source": [
    "I1 = V/R1234\n",
    "print('I1:', I1, 'amps')"
   ]
  },
  {
   "cell_type": "markdown",
   "metadata": {},
   "source": [
    "What is the voltage (in Volts) across the resistor R2?"
   ]
  },
  {
   "cell_type": "code",
   "execution_count": 54,
   "metadata": {},
   "outputs": [
    {
     "name": "stdout",
     "output_type": "stream",
     "text": [
      "V2: 0.6666666666666666 volts\n"
     ]
    }
   ],
   "source": [
    "V2 = I1*R234\n",
    "print('V2:', V2, 'volts')"
   ]
  },
  {
   "cell_type": "markdown",
   "metadata": {},
   "source": [
    "What is the voltage (in Volts) across the resistor R4?"
   ]
  },
  {
   "cell_type": "code",
   "execution_count": 60,
   "metadata": {},
   "outputs": [
    {
     "name": "stdout",
     "output_type": "stream",
     "text": [
      "V4: 0.3333333333333333 volts\n"
     ]
    }
   ],
   "source": [
    "# R3 and R4 are two resistors in series, so the voltage is half the voltage of the resistor in parallel (R2)\n",
    "V4 = V2/2\n",
    "print('V4:', V4, 'volts')"
   ]
  },
  {
   "cell_type": "markdown",
   "metadata": {},
   "source": [
    "### Node analysis practice, part 1\n",
    "\n",
    "In the circuit shown, what is the node potential of the node labeled \"a\" relative to the ground indicated?\n",
    "\n",
    "![](https://prod-edxapp.edx-cdn.org/assets/courseware/v1/f0c9a7536a40a9b3d6619956b63b215c/asset-v1:MITx+6.002.1x_1+2T2016+type@asset+block/images_circuits_bridge-with-is-1.gif)\n",
    "\n",
    "#### Answer\n",
    "\n",
    "This is just V0, because the Node is connected directly to the voltage source"
   ]
  },
  {
   "cell_type": "markdown",
   "metadata": {},
   "source": [
    "### Node analysis practice, part 2\n",
    "\n",
    "In the circuit shown, what is the current going up through the resistor with resistance R1 in terms of the node potentials?\n",
    "\n",
    "![](https://prod-edxapp.edx-cdn.org/assets/courseware/v1/743d24a788c5a2143e243dcf817e64ee/asset-v1:MITx+6.002.1x_1+2T2016+type@asset+block/images_circuits_bridge-with-is-2.gif)\n",
    "\n",
    "#### Answer\n",
    "\n",
    "The current is (e1-V0)/R1"
   ]
  },
  {
   "cell_type": "markdown",
   "metadata": {},
   "source": [
    "### Node analysis practice, part 3\n",
    "\n",
    "Write the expression that represents the sum of the currents leaving the node with potential e2 in the circuit given.\n",
    "\n",
    "![](https://prod-edxapp.edx-cdn.org/assets/courseware/v1/743d24a788c5a2143e243dcf817e64ee/asset-v1:MITx+6.002.1x_1+2T2016+type@asset+block/images_circuits_bridge-with-is-2.gif)\n",
    "\n",
    "#### Answer\n",
    "\n",
    "(e2-V0)/R4+(e2-e1)/R3+(e2)/R5-I1"
   ]
  },
  {
   "cell_type": "markdown",
   "metadata": {},
   "source": [
    "### S2E5: Node Method\n",
    "\n",
    "In the network shown you are given:\n",
    "\n",
    "![](https://prod-edxapp.edx-cdn.org/assets/courseware/v1/0dab32afe047cf9b503b0548077df164/asset-v1:MITx+6.002.1x_1+2T2016+type@asset+block/images_circuits_fnode.gif)"
   ]
  },
  {
   "cell_type": "code",
   "execution_count": 61,
   "metadata": {},
   "outputs": [],
   "source": [
    "V = 5\n",
    "I = 3\n",
    "R1 = 3\n",
    "R2 = 5"
   ]
  },
  {
   "cell_type": "markdown",
   "metadata": {},
   "source": [
    "There are three node potentials labeled in this network e1, e2, and e3. We can choose any node to be the reference node (the ground) from which voltages are measured, setting the corresponding node potential to zero. (Only voltages, which are differences of node potentials, are physically meaningful.) Let's start by choosing the ground at the negative terminal of the voltage source, so e3=0. \n",
    "\n",
    "#### Q&A\n",
    "\n",
    "**What is the value (in Volts) of the node potential e1?**\n",
    "\n",
    "This is just V, so 5V"
   ]
  },
  {
   "cell_type": "code",
   "execution_count": 70,
   "metadata": {},
   "outputs": [
    {
     "name": "stdout",
     "output_type": "stream",
     "text": [
      "e1: 5 volts\n"
     ]
    }
   ],
   "source": [
    "e3 = 0\n",
    "e1 = V\n",
    "print('e1:',e1,'volts')"
   ]
  },
  {
   "cell_type": "markdown",
   "metadata": {},
   "source": [
    "**Now there is one remaining unknown node, with potential e2. Write a node equation for that node. What is the value (in Volts) of e2?**\n",
    "\n",
    "Noting that e3=0, KCL is: "
   ]
  },
  {
   "cell_type": "code",
   "execution_count": 62,
   "metadata": {},
   "outputs": [
    {
     "data": {
      "text/latex": [
       "$\\displaystyle 0 = I - e2/R2 - (e2-e1)/R1$"
      ],
      "text/plain": [
       "<IPython.core.display.Math object>"
      ]
     },
     "execution_count": 62,
     "metadata": {},
     "output_type": "execute_result"
    }
   ],
   "source": [
    "Math(r'0 = I - e2/R2 - (e2-e1)/R1')"
   ]
  },
  {
   "cell_type": "markdown",
   "metadata": {},
   "source": [
    "Rearrange to get:"
   ]
  },
  {
   "cell_type": "code",
   "execution_count": 63,
   "metadata": {},
   "outputs": [
    {
     "data": {
      "text/latex": [
       "$\\displaystyle e_2 = \\frac{I + \\frac{e_1}{R_1}}{\\frac{1}{R_2} + \\frac{1}{R_1}}$"
      ],
      "text/plain": [
       "<IPython.core.display.Math object>"
      ]
     },
     "execution_count": 63,
     "metadata": {},
     "output_type": "execute_result"
    }
   ],
   "source": [
    "Math(r'e_2 = \\frac{I + \\frac{e_1}{R_1}}{\\frac{1}{R_2} + \\frac{1}{R_1}}')"
   ]
  },
  {
   "cell_type": "markdown",
   "metadata": {},
   "source": [
    "e1 is equal to V, so:"
   ]
  },
  {
   "cell_type": "code",
   "execution_count": 67,
   "metadata": {},
   "outputs": [
    {
     "name": "stdout",
     "output_type": "stream",
     "text": [
      "e2: 8.75 volts\n"
     ]
    }
   ],
   "source": [
    "e2 = (I+e1/R1)/(1/R2+1/R1)\n",
    "print('e2:',e2,'volts')"
   ]
  },
  {
   "cell_type": "markdown",
   "metadata": {},
   "source": [
    "**What is the voltage (in Volts) V2 across the resistor with resistance R2?**"
   ]
  },
  {
   "cell_type": "code",
   "execution_count": 72,
   "metadata": {},
   "outputs": [
    {
     "name": "stdout",
     "output_type": "stream",
     "text": [
      "V2: 8.75 volts\n"
     ]
    }
   ],
   "source": [
    "V2 = e2 -e3\n",
    "print('V2:', V2, 'volts')"
   ]
  },
  {
   "cell_type": "markdown",
   "metadata": {},
   "source": [
    "**Now, let's start again. Suppose we chose a different node as the ground reference. Let's choose the top terminal of the current source, where it connects to the two resistors. So now e2 = 0, and there are two remaining nodes. But if we know e3 then we know that e1 = e3 + V, so we still have only one unknown. What is the value (in Volts) of the node potential e3?**\n",
    "\n",
    "Since we just flipped it vertically, e3 is just the negative of e2 above: -8.75 V\n",
    "\n",
    "**Now, what is the voltage (in volts) V2 across the resistor with resistance R2?**\n",
    "\n",
    "8.75 V"
   ]
  },
  {
   "cell_type": "markdown",
   "metadata": {},
   "source": [
    "### S2E6: Modeling\n",
    "\n",
    "Joe has a barn that is 113.0 feet from his house. He needs to supply 1000 Watts at 240V to a resistive load at his barn from the 60Hz power line at his house. Note that the circuit from the house to the barn requires two lengths of the interconnecting wire. He proposes to use number 12 AWG wire to connect his house to his barn. (AWG is American Wire Gauge: a specification of the size of the wire. For more information see.) Number 12 AWG copper wire has a resistance of 1.588ohms per 1000 feet.\n",
    "\n",
    "![](https://prod-edxapp.edx-cdn.org/assets/courseware/v1/aceb78ef8e7d5b4322afef5ac7244cb9/asset-v1:MITx+6.002.1x_1+2T2016+type@asset+block/images_circuits_house-barn.gif)\n",
    "\n",
    "#### Q&A\n",
    "\n",
    "**What is the total resistance (in Ohms) of the transmission line?**"
   ]
  },
  {
   "cell_type": "code",
   "execution_count": 74,
   "metadata": {},
   "outputs": [
    {
     "name": "stdout",
     "output_type": "stream",
     "text": [
      "R: 0.35888800000000004 ohms\n"
     ]
    }
   ],
   "source": [
    "num = 2\n",
    "dist = 113.0/1000\n",
    "R = num * dist * 1.588\n",
    "print('R:', R, 'ohms')"
   ]
  },
  {
   "cell_type": "markdown",
   "metadata": {},
   "source": [
    "**What is the resistance (in Ohms) of Joe's load at his barn?**"
   ]
  },
  {
   "cell_type": "code",
   "execution_count": 77,
   "metadata": {},
   "outputs": [
    {
     "name": "stdout",
     "output_type": "stream",
     "text": [
      "Rload: 57.6 ohms\n"
     ]
    }
   ],
   "source": [
    "V = 240\n",
    "P = 1000\n",
    "Rload = V**2/P\n",
    "print('Rload:', Rload, 'ohms')"
   ]
  },
  {
   "cell_type": "markdown",
   "metadata": {},
   "source": [
    "**What is the voltage drop (in Volts) from the house to the load at the barn and back to the house due to the resistance in Joe's transmission line, assuming that Joe is able to get 240V across the load at the barn?**"
   ]
  },
  {
   "cell_type": "code",
   "execution_count": 81,
   "metadata": {},
   "outputs": [
    {
     "name": "stdout",
     "output_type": "stream",
     "text": [
      "Iload: 4.166666666666667 amps\n",
      "Vline: 1.495366666666667 volts\n"
     ]
    }
   ],
   "source": [
    "Iload = V/Rload\n",
    "print('Iload:', Iload, 'amps')\n",
    "Vline = Iload * R\n",
    "print('Vline:', Vline, 'volts')"
   ]
  },
  {
   "cell_type": "code",
   "execution_count": null,
   "metadata": {},
   "outputs": [],
   "source": []
  }
 ],
 "metadata": {
  "kernelspec": {
   "display_name": "Python 3",
   "language": "python",
   "name": "python3"
  },
  "language_info": {
   "codemirror_mode": {
    "name": "ipython",
    "version": 3
   },
   "file_extension": ".py",
   "mimetype": "text/x-python",
   "name": "python",
   "nbconvert_exporter": "python",
   "pygments_lexer": "ipython3",
   "version": "3.7.2"
  }
 },
 "nbformat": 4,
 "nbformat_minor": 2
}
