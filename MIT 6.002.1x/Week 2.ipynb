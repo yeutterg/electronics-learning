{
 "cells": [
  {
   "cell_type": "code",
   "execution_count": 1,
   "metadata": {},
   "outputs": [],
   "source": [
    "from IPython.display import Math"
   ]
  },
  {
   "cell_type": "markdown",
   "metadata": {},
   "source": [
    "# Week 2 Exercises\n",
    "\n",
    "## Linearity and Superposition\n",
    "\n",
    "### S3E1: Node Equation Review\n",
    "\n",
    "This is just a quick review of the node equation idea.\n",
    "\n",
    "![](https://courses.edx.org/c4x/MITx/6.002x/asset/images_circuits_node-review.jpg)\n",
    "\n",
    "In the following circuit there is one unknown node potential, labeled e. The device parameters are:"
   ]
  },
  {
   "cell_type": "code",
   "execution_count": 2,
   "metadata": {},
   "outputs": [],
   "source": [
    "R1 = 6800\n",
    "R2 = 5600\n",
    "V1 = 5\n",
    "V2 = -7.2"
   ]
  },
  {
   "cell_type": "markdown",
   "metadata": {},
   "source": [
    "**What is the unknown potential e (in Volts)?**\n",
    "\n",
    "Using node analysis, with a node between V1 and R1 and another between V2 and R2, we get the equation:"
   ]
  },
  {
   "cell_type": "code",
   "execution_count": 3,
   "metadata": {},
   "outputs": [
    {
     "data": {
      "text/latex": [
       "$\\displaystyle \\frac{V_1-e}{R_1} = \\frac{e-V_2}{R_2}$"
      ],
      "text/plain": [
       "<IPython.core.display.Math object>"
      ]
     },
     "execution_count": 3,
     "metadata": {},
     "output_type": "execute_result"
    }
   ],
   "source": [
    "Math(r'\\frac{V_1-e}{R_1} = \\frac{e-V_2}{R_2}')"
   ]
  },
  {
   "cell_type": "markdown",
   "metadata": {},
   "source": [
    "Solving for e, we get:"
   ]
  },
  {
   "cell_type": "code",
   "execution_count": 4,
   "metadata": {},
   "outputs": [
    {
     "name": "stdout",
     "output_type": "stream",
     "text": [
      "e: 6.206451612903226 volts\n"
     ]
    }
   ],
   "source": [
    "e = (V1/R1-V2/R2)/(1/R1+1/R2)\n",
    "print('e:', e, 'volts')"
   ]
  },
  {
   "cell_type": "markdown",
   "metadata": {},
   "source": [
    "### S3E2: Circuit Voltages and Currents are Linear Combinations of Source Strengths\n",
    "\n",
    "Consider the following network containing two voltage sources and three resistors. The device parameters are V1, V2, R1, R2, and R2.\n",
    "\n",
    "![](https://prod-edxapp.edx-cdn.org/assets/courseware/v1/0dc7d284480b957fb5571b9436d3e734/asset-v1:MITx+6.002.1x_1+2T2016+type@asset+block/images_circuits_superposition-v.gif)\n",
    "\n",
    "The voltage v across resistor R3 and the currents i1 and i2 can be expressed as a linear combinations of V1 and V2: "
   ]
  },
  {
   "cell_type": "code",
   "execution_count": 5,
   "metadata": {},
   "outputs": [
    {
     "data": {
      "text/latex": [
       "$\\displaystyle v_3 = a_1 * V_1 + a_2 * V_3$"
      ],
      "text/plain": [
       "<IPython.core.display.Math object>"
      ]
     },
     "execution_count": 5,
     "metadata": {},
     "output_type": "execute_result"
    }
   ],
   "source": [
    "Math(r'v_3 = a_1 * V_1 + a_2 * V_3')"
   ]
  },
  {
   "cell_type": "code",
   "execution_count": 6,
   "metadata": {},
   "outputs": [
    {
     "data": {
      "text/latex": [
       "$\\displaystyle i_1 = b_1 * V_1 + b_2 * V_2$"
      ],
      "text/plain": [
       "<IPython.core.display.Math object>"
      ]
     },
     "execution_count": 6,
     "metadata": {},
     "output_type": "execute_result"
    }
   ],
   "source": [
    "Math(r'i_1 = b_1 * V_1 + b_2 * V_2')"
   ]
  },
  {
   "cell_type": "code",
   "execution_count": 7,
   "metadata": {},
   "outputs": [
    {
     "data": {
      "text/latex": [
       "$\\displaystyle i_2 = c_1 * V_1 + c_2 * V_2$"
      ],
      "text/plain": [
       "<IPython.core.display.Math object>"
      ]
     },
     "execution_count": 7,
     "metadata": {},
     "output_type": "execute_result"
    }
   ],
   "source": [
    "Math(r'i_2 = c_1 * V_1 + c_2 * V_2')"
   ]
  },
  {
   "cell_type": "markdown",
   "metadata": {},
   "source": [
    "**In each of the following, write algebraic expressions for the coefficients in terms of R1, R2, and R3.**\n",
    "\n",
    "I was stumped by this one and used the explanation given on the problem page."
   ]
  },
  {
   "cell_type": "markdown",
   "metadata": {},
   "source": [
    "### S3E3: Circuit Variables are Superpositions of values due to each source separately\n",
    "\n",
    "Consider the familiar network containing two voltage sources and three resistors:\n",
    "\n",
    "![](https://prod-edxapp.edx-cdn.org/assets/courseware/v1/0dc7d284480b957fb5571b9436d3e734/asset-v1:MITx+6.002.1x_1+2T2016+type@asset+block/images_circuits_superposition-v.gif)\n",
    "\n",
    "The voltage V3 across resistor R3 can be expressed as the sum of the voltage X1 due to V1 acting alone and the voltage X2 due to V2 acting alone.\n",
    "\n",
    "You are given that:"
   ]
  },
  {
   "cell_type": "code",
   "execution_count": 8,
   "metadata": {},
   "outputs": [],
   "source": [
    "R1 = 7\n",
    "R2 = 3\n",
    "R3 = 5\n",
    "V1 = 2\n",
    "V2 = 8"
   ]
  },
  {
   "cell_type": "markdown",
   "metadata": {},
   "source": [
    "**The value (in Volts) of X1 is:**\n",
    "\n",
    "For X1, V1 is acting alone, so we temporarily set V2 = 0. Setting the ground node to be the bottom, we calculate:"
   ]
  },
  {
   "cell_type": "code",
   "execution_count": 9,
   "metadata": {},
   "outputs": [
    {
     "data": {
      "text/latex": [
       "$\\displaystyle \\frac{x_1 - v_1}{R_1} + \\frac{x_1}{R_2} + \\frac{x_1}{R_3} = 0$"
      ],
      "text/plain": [
       "<IPython.core.display.Math object>"
      ]
     },
     "execution_count": 9,
     "metadata": {},
     "output_type": "execute_result"
    }
   ],
   "source": [
    "Math(r'\\frac{x_1 - v_1}{R_1} + \\frac{x_1}{R_2} + \\frac{x_1}{R_3} = 0')"
   ]
  },
  {
   "cell_type": "markdown",
   "metadata": {},
   "source": [
    "Which simplifies to:"
   ]
  },
  {
   "cell_type": "code",
   "execution_count": 10,
   "metadata": {},
   "outputs": [
    {
     "data": {
      "text/latex": [
       "$\\displaystyle x_1 = \\frac{V_1}{R_1 (\\frac{1}{R_1} + \\frac{1}{R_2} + \\frac{1}{R_3})}$"
      ],
      "text/plain": [
       "<IPython.core.display.Math object>"
      ]
     },
     "execution_count": 10,
     "metadata": {},
     "output_type": "execute_result"
    }
   ],
   "source": [
    "Math(r'x_1 = \\frac{V_1}{R_1 (\\frac{1}{R_1} + \\frac{1}{R_2} + \\frac{1}{R_3})}')"
   ]
  },
  {
   "cell_type": "code",
   "execution_count": 12,
   "metadata": {},
   "outputs": [
    {
     "name": "stdout",
     "output_type": "stream",
     "text": [
      "X1: 0.4225352112676056 volts\n"
     ]
    }
   ],
   "source": [
    "X1 = V1/(R1*(1/R1 + 1/R2 + 1/R3))\n",
    "print('X1:', X1, 'volts')"
   ]
  },
  {
   "cell_type": "markdown",
   "metadata": {},
   "source": [
    "**The value (in Volts) of X2 is:**\n",
    "    \n",
    "We use the same method as X1, this time setting V1 = 0"
   ]
  },
  {
   "cell_type": "code",
   "execution_count": 14,
   "metadata": {},
   "outputs": [
    {
     "data": {
      "text/latex": [
       "$\\displaystyle \\frac{x_2}{R_1} + \\frac{x_2 - v_2}{R_2} + \\frac{x_2}{R_3} = 0$"
      ],
      "text/plain": [
       "<IPython.core.display.Math object>"
      ]
     },
     "execution_count": 14,
     "metadata": {},
     "output_type": "execute_result"
    }
   ],
   "source": [
    "Math(r'\\frac{x_2}{R_1} + \\frac{x_2 - v_2}{R_2} + \\frac{x_2}{R_3} = 0')"
   ]
  },
  {
   "cell_type": "code",
   "execution_count": 15,
   "metadata": {},
   "outputs": [
    {
     "data": {
      "text/latex": [
       "$\\displaystyle x_2 = \\frac{V_2}{R_2 (\\frac{1}{R_1} + \\frac{1}{R_2} + \\frac{1}{R_3})}$"
      ],
      "text/plain": [
       "<IPython.core.display.Math object>"
      ]
     },
     "execution_count": 15,
     "metadata": {},
     "output_type": "execute_result"
    }
   ],
   "source": [
    "# simplifying:\n",
    "Math(r'x_2 = \\frac{V_2}{R_2 (\\frac{1}{R_1} + \\frac{1}{R_2} + \\frac{1}{R_3})}')"
   ]
  },
  {
   "cell_type": "code",
   "execution_count": 16,
   "metadata": {},
   "outputs": [
    {
     "name": "stdout",
     "output_type": "stream",
     "text": [
      "X2: 3.943661971830986 volts\n"
     ]
    }
   ],
   "source": [
    "X2 = V2/(R2*(1/R1 + 1/R2 + 1/R3))\n",
    "print('X2:', X2, 'volts')"
   ]
  },
  {
   "cell_type": "markdown",
   "metadata": {},
   "source": [
    "Similarly, the current I1 into the resistor R1 can be expressed as the sum of the current y1 due to V1 acting alone and the current y2 due to V2 acting alone. (NOTE: y1 and y2 are not labeled in the diagram, but I1 = y1 + y2.)\n",
    "\n",
    "**The value (in Amperes) of y1 is:**\n",
    "\n",
    "We short V2 (set V2=0) and find Y1 in the leftmost branch:"
   ]
  },
  {
   "cell_type": "code",
   "execution_count": 22,
   "metadata": {},
   "outputs": [
    {
     "data": {
      "text/latex": [
       "$\\displaystyle y_1 = \\frac{x_1 - V_1}{R_1}$"
      ],
      "text/plain": [
       "<IPython.core.display.Math object>"
      ]
     },
     "execution_count": 22,
     "metadata": {},
     "output_type": "execute_result"
    }
   ],
   "source": [
    "Math(r'y_1 = \\frac{x_1 - V_1}{R_1}')"
   ]
  },
  {
   "cell_type": "code",
   "execution_count": 17,
   "metadata": {},
   "outputs": [
    {
     "name": "stdout",
     "output_type": "stream",
     "text": [
      "Y1: -0.22535211267605634 amps\n"
     ]
    }
   ],
   "source": [
    "Y1 = (X1-V1)/R1\n",
    "print('Y1:', Y1, 'amps')"
   ]
  },
  {
   "cell_type": "markdown",
   "metadata": {},
   "source": [
    "**The value (in Amperes) of y2 is:**\n",
    "\n",
    "We short V1 (v1=0), and y2 is in the leftmost node as shown below:\n",
    "\n",
    "![](https://edxuploads.s3.amazonaws.com/14777466791437804.png)\n",
    "\n",
    "Therefore:"
   ]
  },
  {
   "cell_type": "code",
   "execution_count": 21,
   "metadata": {},
   "outputs": [
    {
     "data": {
      "text/latex": [
       "$\\displaystyle y_2 = \\frac{x_2}{R_1}$"
      ],
      "text/plain": [
       "<IPython.core.display.Math object>"
      ]
     },
     "execution_count": 21,
     "metadata": {},
     "output_type": "execute_result"
    }
   ],
   "source": [
    "Math(r'y_2 = \\frac{x_2}{R_1}')"
   ]
  },
  {
   "cell_type": "code",
   "execution_count": 19,
   "metadata": {},
   "outputs": [
    {
     "name": "stdout",
     "output_type": "stream",
     "text": [
      "Y2: 0.5633802816901409 amps\n"
     ]
    }
   ],
   "source": [
    "Y2 = X2/R1\n",
    "print('Y2:', Y2, 'amps')"
   ]
  },
  {
   "cell_type": "markdown",
   "metadata": {},
   "source": [
    "### S3E4: Simple Thevenin\n",
    "\n",
    "Given the circuit below with the indicated terminals, you will construct a Thevenin equivalent circuit.\n",
    "\n",
    "![](https://prod-edxapp.edx-cdn.org/assets/courseware/v1/b2f6f37a04822ffb30095923f09bd04e/asset-v1:MITx+6.002.1x_1+2T2016+type@asset+block/images_circuits_simple-thevenin.gif)\n",
    "\n",
    "The device parameters of the circuit to be modeled are:"
   ]
  },
  {
   "cell_type": "code",
   "execution_count": 24,
   "metadata": {},
   "outputs": [],
   "source": [
    "Vs = 5\n",
    "R1 = 56000\n",
    "R2 = 18000"
   ]
  },
  {
   "cell_type": "markdown",
   "metadata": {},
   "source": [
    "**What is the Thevenin open-circuit voltage Vth (in Volts)?**\n",
    "\n",
    "We can use a simple voltage divider formula:"
   ]
  },
  {
   "cell_type": "code",
   "execution_count": 25,
   "metadata": {},
   "outputs": [
    {
     "data": {
      "text/latex": [
       "$\\displaystyle V_{TH} = V_s (\\frac{R_2}{R_1 + R_2})$"
      ],
      "text/plain": [
       "<IPython.core.display.Math object>"
      ]
     },
     "execution_count": 25,
     "metadata": {},
     "output_type": "execute_result"
    }
   ],
   "source": [
    "Math(r'V_{TH} = V_s (\\frac{R_2}{R_1 + R_2})')"
   ]
  },
  {
   "cell_type": "code",
   "execution_count": 28,
   "metadata": {},
   "outputs": [
    {
     "name": "stdout",
     "output_type": "stream",
     "text": [
      "Vth: 1.2162162162162162 volts\n"
     ]
    }
   ],
   "source": [
    "Vth = Vs*(R2/(R1+R2))\n",
    "print('Vth:', Vth, 'volts')"
   ]
  },
  {
   "cell_type": "markdown",
   "metadata": {},
   "source": [
    "**What is the Thevnin equivalent resistance Rth (in Ohms)?**\n",
    "\n",
    "For Rth, we short Vs, so the formula is just the two resistors in parallel:"
   ]
  },
  {
   "cell_type": "code",
   "execution_count": 31,
   "metadata": {},
   "outputs": [
    {
     "name": "stdout",
     "output_type": "stream",
     "text": [
      "Rth: 13621.621621621622 ohms\n"
     ]
    }
   ],
   "source": [
    "Rth = (1/R1+1/R2)**-1\n",
    "print('Rth:', Rth, 'ohms')"
   ]
  },
  {
   "cell_type": "markdown",
   "metadata": {},
   "source": [
    "### S3E5: Thevenin Model\n",
    "\n",
    "A certain light sensor is modeled as a current source that produces a current proportional to the intensity of light falling on it. There is leakage through the sensor, modeled by a resistor Rp in parallel with the current source. There is resistance in the contacts to the sensor, modeled by the series resistances Rs. In this experiment the light produces a current of I.\n",
    "\n",
    "![](https://prod-edxapp.edx-cdn.org/assets/courseware/v1/89624e55652e0b0a585d81780f83f272/asset-v1:MITx+6.002.1x_1+2T2016+type@asset+block/images_circuits_sensor-thevenin.gif)\n",
    "\n",
    "It is useful to summarize this model by constructing a Thevenin equivalent circuit for it.\n",
    "\n",
    "The values are:"
   ]
  },
  {
   "cell_type": "code",
   "execution_count": 32,
   "metadata": {},
   "outputs": [],
   "source": [
    "Rp = 1800000\n",
    "Rs = 17000\n",
    "I = 0.00000143"
   ]
  },
  {
   "cell_type": "markdown",
   "metadata": {},
   "source": [
    "**What is the Thevenin voltage Vth of the sensor (in Volts)?**\n",
    "\n",
    "Vth is just I * Rp here"
   ]
  },
  {
   "cell_type": "code",
   "execution_count": 35,
   "metadata": {},
   "outputs": [
    {
     "name": "stdout",
     "output_type": "stream",
     "text": [
      "Vth: 2.5740000000000003 volts\n"
     ]
    }
   ],
   "source": [
    "Vth = I*Rp\n",
    "print('Vth:', Vth, 'volts')"
   ]
  },
  {
   "cell_type": "markdown",
   "metadata": {},
   "source": [
    "**What is the Thevenin resistance Rth of the sensor (in Megaohms)?**\n",
    "\n",
    "Rth is jus a sum of the resistors in series. The current source is open here."
   ]
  },
  {
   "cell_type": "code",
   "execution_count": 37,
   "metadata": {},
   "outputs": [
    {
     "name": "stdout",
     "output_type": "stream",
     "text": [
      "Rth: 1834000 ohms\n",
      "Rth: 1.8339999999999999 Megaohms\n"
     ]
    }
   ],
   "source": [
    "Rth = Rp + 2*Rs\n",
    "print('Rth:', Rth, 'ohms')\n",
    "print('Rth:', Rth*10**-6, 'Megaohms')"
   ]
  },
  {
   "cell_type": "markdown",
   "metadata": {},
   "source": [
    "The sensor is intended to be used in a light meter. In this application the output of the sensor is connected to a system that amplifies the signal and displays it, scaled to appropriate units.\n",
    "\n",
    "![](https://prod-edxapp.edx-cdn.org/assets/courseware/v1/5b5013a7876dd7aa11cd9f848b08fd6c/asset-v1:MITx+6.002.1x_1+2T2016+type@asset+block/images_circuits_sensor-loaded.gif)\n",
    "\n",
    "The amplifier is designed to present a resistance of Rl. So, from the point of view of the sensor we can model it as just a resistor. The value of Rl is:"
   ]
  },
  {
   "cell_type": "code",
   "execution_count": 38,
   "metadata": {},
   "outputs": [],
   "source": [
    "Rl = 100000"
   ]
  },
  {
   "cell_type": "markdown",
   "metadata": {},
   "source": [
    "**What is the voltage Vl presented to the amplifier (in Volts)?**\n",
    "\n",
    "This is a simple voltage divider:"
   ]
  },
  {
   "cell_type": "code",
   "execution_count": 43,
   "metadata": {},
   "outputs": [
    {
     "name": "stdout",
     "output_type": "stream",
     "text": [
      "Vl: 0.1330920372285419 volts\n"
     ]
    }
   ],
   "source": [
    "Vl = Vth*Rl/(Rl+Rth)\n",
    "print('Vl:', Vl, 'volts')"
   ]
  },
  {
   "cell_type": "markdown",
   "metadata": {},
   "source": [
    "### S3E6: Norton Model\n",
    "\n",
    "This is the same circuit as in the Thevenin exercise, with the same values for Rp, Rs, and I:\n",
    "\n",
    "![](https://prod-edxapp.edx-cdn.org/assets/courseware/v1/d8468400f9ce94b13fc9ed0e97606ea6/asset-v1:MITx+6.002.1x_1+2T2016+type@asset+block/images_circuits_sensor-norton.gif)\n",
    "\n",
    "In this case, we want to summarize the circuit with a Norton model.\n",
    "\n",
    "**What is the Norton current IN of the sensor (in microamps)?**\n",
    "\n",
    "We can use the Thevenin to Norton conversion function:"
   ]
  },
  {
   "cell_type": "code",
   "execution_count": 44,
   "metadata": {},
   "outputs": [
    {
     "data": {
      "text/latex": [
       "$\\displaystyle I_N = \\frac{V_{TH}}{R_{TH}}$"
      ],
      "text/plain": [
       "<IPython.core.display.Math object>"
      ]
     },
     "execution_count": 44,
     "metadata": {},
     "output_type": "execute_result"
    }
   ],
   "source": [
    "Math(r'I_N = \\frac{V_{TH}}{R_{TH}}')"
   ]
  },
  {
   "cell_type": "code",
   "execution_count": 45,
   "metadata": {},
   "outputs": [
    {
     "name": "stdout",
     "output_type": "stream",
     "text": [
      "In 1.4034896401308616e-06 amps\n",
      "In 1.4034896401308616 microamps\n"
     ]
    }
   ],
   "source": [
    "In = Vth/Rth\n",
    "print('In', In, 'amps')\n",
    "print('In', In*10**6, 'microamps')"
   ]
  },
  {
   "cell_type": "markdown",
   "metadata": {},
   "source": [
    "**What is the Norton resistance RN of the sensor (in Megaohms)?**\n",
    "\n",
    "This is actually the same as the thevenin resistance:"
   ]
  },
  {
   "cell_type": "code",
   "execution_count": 46,
   "metadata": {},
   "outputs": [
    {
     "name": "stdout",
     "output_type": "stream",
     "text": [
      "Rn: 1834000 ohms\n",
      "Rn: 1.8339999999999999 Megaohms\n"
     ]
    }
   ],
   "source": [
    "Rn = Rp + 2*Rs\n",
    "print('Rn:', Rn, 'ohms')\n",
    "print('Rn:', Rn*10**-6, 'Megaohms')"
   ]
  },
  {
   "cell_type": "markdown",
   "metadata": {},
   "source": [
    "Again, we present a load as a resistance RL, with the same value as before.\n",
    "\n",
    "![](https://prod-edxapp.edx-cdn.org/assets/courseware/v1/5b5013a7876dd7aa11cd9f848b08fd6c/asset-v1:MITx+6.002.1x_1+2T2016+type@asset+block/images_circuits_sensor-loaded.gif)\n",
    "\n",
    "**What is the voltage VL presented to the amplifier (in Volts)?**\n",
    "\n",
    "We get the current:"
   ]
  },
  {
   "cell_type": "code",
   "execution_count": 48,
   "metadata": {},
   "outputs": [
    {
     "data": {
      "text/latex": [
       "$\\displaystyle i = I_N \\frac{R_N}{R_L+R_N}$"
      ],
      "text/plain": [
       "<IPython.core.display.Math object>"
      ]
     },
     "execution_count": 48,
     "metadata": {},
     "output_type": "execute_result"
    }
   ],
   "source": [
    "Math(r'i = I_N \\frac{R_N}{R_L+R_N}')"
   ]
  },
  {
   "cell_type": "code",
   "execution_count": 50,
   "metadata": {},
   "outputs": [
    {
     "name": "stdout",
     "output_type": "stream",
     "text": [
      "I: 1.330920372285419e-06 amps\n"
     ]
    }
   ],
   "source": [
    "I = In * (Rn/(Rl+Rn))\n",
    "print('I:', I, 'amps')"
   ]
  },
  {
   "cell_type": "markdown",
   "metadata": {},
   "source": [
    "Then we compute the voltage:"
   ]
  },
  {
   "cell_type": "code",
   "execution_count": 51,
   "metadata": {},
   "outputs": [
    {
     "data": {
      "text/latex": [
       "$\\displaystyle V_L = i R_L$"
      ],
      "text/plain": [
       "<IPython.core.display.Math object>"
      ]
     },
     "execution_count": 51,
     "metadata": {},
     "output_type": "execute_result"
    }
   ],
   "source": [
    "Math(r'V_L = i R_L')"
   ]
  },
  {
   "cell_type": "code",
   "execution_count": 52,
   "metadata": {},
   "outputs": [
    {
     "name": "stdout",
     "output_type": "stream",
     "text": [
      "Vl: 0.1330920372285419 volts\n"
     ]
    }
   ],
   "source": [
    "Vl = I * Rl\n",
    "print('Vl:', Vl, 'volts')"
   ]
  },
  {
   "cell_type": "code",
   "execution_count": null,
   "metadata": {},
   "outputs": [],
   "source": []
  }
 ],
 "metadata": {
  "kernelspec": {
   "display_name": "Python 3",
   "language": "python",
   "name": "python3"
  },
  "language_info": {
   "codemirror_mode": {
    "name": "ipython",
    "version": 3
   },
   "file_extension": ".py",
   "mimetype": "text/x-python",
   "name": "python",
   "nbconvert_exporter": "python",
   "pygments_lexer": "ipython3",
   "version": "3.7.2"
  }
 },
 "nbformat": 4,
 "nbformat_minor": 2
}
